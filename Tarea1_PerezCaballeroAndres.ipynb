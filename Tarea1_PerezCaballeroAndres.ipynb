{
 "cells": [
  {
   "cell_type": "markdown",
   "id": "b9d42c96-8c69-4977-bdc8-4d49780a6b6c",
   "metadata": {},
   "source": [
    "Tarea-Practica 1\n",
    "Andrés Pérez Caballero"
   ]
  },
  {
   "cell_type": "code",
   "execution_count": 307,
   "id": "14bcb015-0614-4dad-9973-9bc7ed5b2f0f",
   "metadata": {},
   "outputs": [],
   "source": [
    "import numpy as np #Para el ejercicio que lo permite y variables\n",
    "import math as mt\n",
    "from random import *"
   ]
  },
  {
   "cell_type": "markdown",
   "id": "991e18ed-b581-4e96-a61d-5ad56fedc474",
   "metadata": {},
   "source": [
    "1. Coordenadas polares y cartesianas: Supongamos que se nos da (es decir, el usuario introduce) la posicion de un punto en un espacio bidimensional:"
   ]
  },
  {
   "cell_type": "markdown",
   "id": "f5bbabf5-481f-4bb3-9f29-b2e5d6a06713",
   "metadata": {},
   "source": [
    "a. Si el punto se especifica en coordenadas polares $r,θ$. Escribe un programa (en python sin usar la biblioteca numpy) que calcule e imprima la conversion a coordenadas cartesianas $x,y$."
   ]
  },
  {
   "cell_type": "code",
   "execution_count": 61,
   "id": "adc7b86a-ca11-40c7-969e-40bf86698aeb",
   "metadata": {},
   "outputs": [
    {
     "name": "stdin",
     "output_type": "stream",
     "text": [
      "Inserte la coordenada radial 1\n",
      "Inserte la coordenada angular 0\n"
     ]
    },
    {
     "name": "stdout",
     "output_type": "stream",
     "text": [
      "Las coordenadas cartesianas son:\n",
      "x= 1.0\n",
      "y= 0.0\n"
     ]
    }
   ],
   "source": [
    "r1=float(input(\"Inserte la coordenada radial\"))\n",
    "th1=float(input(\"Inserte la coordenada angular\"))\n",
    "x1=r1*mt.cos(th1)\n",
    "y1=r1*mt.sin(th1)\n",
    "print(\"Las coordenadas cartesianas son:\")\n",
    "print(\"x=\",round(x1,5))\n",
    "print(\"y=\",round(y1,5))"
   ]
  },
  {
   "cell_type": "markdown",
   "id": "27c8c8ce-c9ca-43ef-a529-d5b21808278d",
   "metadata": {},
   "source": [
    "b. Si el punto se especifica en coordenadas cartesianas $x,y$. Escribe un programa (en python sin usar numpy) que calcule e imprima la conversion a coordenadas polares $r,θ$."
   ]
  },
  {
   "cell_type": "code",
   "execution_count": 71,
   "id": "573ee473-d33b-4618-99a9-ebb625948feb",
   "metadata": {},
   "outputs": [
    {
     "name": "stdin",
     "output_type": "stream",
     "text": [
      "Inserte la coordenada x 3\n",
      "Inserte la coordenada y 4\n"
     ]
    },
    {
     "name": "stdout",
     "output_type": "stream",
     "text": [
      "Las coordenadas polares son:\n",
      "r= 5.0\n",
      "θ= 0.9273\n"
     ]
    }
   ],
   "source": [
    "x2=float(input(\"Inserte la coordenada x\"))\n",
    "y2=float(input(\"Inserte la coordenada y\"))\n",
    "r2=mt.sqrt(x2**2+y2**2)\n",
    "th2=mt.atan2(y2,x2)\n",
    "print(\"Las coordenadas polares son:\")\n",
    "print(\"r=\",round(r2,5))\n",
    "print(\"θ=\",round(th2,5))"
   ]
  },
  {
   "cell_type": "markdown",
   "id": "0f7aee0d-ceba-48be-846d-fd05ccaab1db",
   "metadata": {},
   "source": [
    "2. Productos vectoriales y matriciales: Escribe el pseudocódigo de los algoritmos qué realicen las siguientes operaciones vectoriales; así como los respectivos programas en python, sin usar bibliotecas como numpy ni cualquier otra (i.e. usando solo listas) qué implementen dichos algoritmos:"
   ]
  },
  {
   "cell_type": "markdown",
   "id": "8b0b411c-31ee-4da1-b6cf-8ea80d3ae3d8",
   "metadata": {},
   "source": [
    "a. El producto interior (producto punto) de dos vectores en $\\mathbb{R}^3$. En este caso, para la implementación el usuario del programa debe insertar las entradas de los vectores."
   ]
  },
  {
   "cell_type": "code",
   "execution_count": 225,
   "id": "c9ef82a2-8d21-4aeb-a812-6ec7db9b6778",
   "metadata": {},
   "outputs": [
    {
     "name": "stdin",
     "output_type": "stream",
     "text": [
      "Inserte la entrada del primer vector: 1\n",
      "Inserte la entrada del primer vector: 2\n",
      "Inserte la entrada del primer vector: 3\n",
      "Inserte la entrada del segundo vector: 7\n",
      "Inserte la entrada del segundo vector: 8\n",
      "Inserte la entrada del segundo vector: 9\n"
     ]
    },
    {
     "name": "stdout",
     "output_type": "stream",
     "text": [
      "El producto punto de los vectores [1.0, 2.0, 3.0] y [7.0, 8.0, 9.0] es 50.0\n"
     ]
    }
   ],
   "source": [
    "v1=[]\n",
    "v2=[]\n",
    "C1=0\n",
    "for i in range(3):\n",
    "    k=float(input(\"Inserte la entrada del primer vector:\"))\n",
    "    v1.append(k)\n",
    "for i in range(3):\n",
    "    k=float(input(\"Inserte la entrada del segundo vector:\"))\n",
    "    v2.append(k)\n",
    "for i in range(3):\n",
    "    c1=v1[i]*v2[i]\n",
    "    C1+=c1\n",
    "print(\"El producto punto de los vectores\",v1,\"y\",v2,\"es\",C1)"
   ]
  },
  {
   "cell_type": "markdown",
   "id": "6f0a4764-dc2f-4c8c-9c6b-06d9387ef6ac",
   "metadata": {},
   "source": [
    "b. El producto interior de dos vectores en $\\mathbb{R}^n$. Para la implementación, en este caso, encuentra una manera de generar dos vectores diferentes en $\\mathbb{R}^n$."
   ]
  },
  {
   "cell_type": "code",
   "execution_count": 423,
   "id": "861755de-d1e8-478e-b602-e618e0d448d9",
   "metadata": {},
   "outputs": [
    {
     "name": "stdin",
     "output_type": "stream",
     "text": [
      "Ingrese la dimensión de los vectores: 3\n",
      "Inserte la entrada del primer vector: 1\n",
      "Inserte la entrada del primer vector: 1\n",
      "Inserte la entrada del primer vector: 1\n",
      "Inserte la entrada del segundo vector: 1\n",
      "Inserte la entrada del segundo vector: 1\n",
      "Inserte la entrada del segundo vector: 1\n"
     ]
    },
    {
     "name": "stdout",
     "output_type": "stream",
     "text": [
      "El producto punto de los vectores [1.0, 1.0, 1.0] y [1.0, 1.0, 1.0] es 3.0\n"
     ]
    }
   ],
   "source": [
    "v3=[]\n",
    "v4=[]\n",
    "C2=0\n",
    "N=int(input(\"Ingrese la dimensión de los vectores:\"))\n",
    "for i in range(N):\n",
    "    k=float(input(\"Inserte la entrada del primer vector:\"))\n",
    "    v3.append(k)\n",
    "for i in range(N):\n",
    "    k=float(input(\"Inserte la entrada del segundo vector:\"))\n",
    "    v4.append(k)\n",
    "for i in range(N):\n",
    "    c2=v3[i]*v4[i]\n",
    "    C2+=c2\n",
    "print(\"El producto punto de los vectores\",v3,\"y\",v4,\"es\",C2)"
   ]
  },
  {
   "cell_type": "markdown",
   "id": "8531b22a-8d28-4e6f-bb58-983603fc0c6a",
   "metadata": {},
   "source": [
    "c. El producto de una matriz en $\\mathbb{A}\\in\\mathbb{R}^{n\\times n}$, por un vector de $\\mathbb{R}^n$. Para la implementación las entradas tanto del vector como de la matriz deben leerse de un archivo de datos (que tú puedes generar)."
   ]
  },
  {
   "cell_type": "code",
   "execution_count": 441,
   "id": "5516ab39-61ad-4dfb-9844-15f3ad44b5c1",
   "metadata": {},
   "outputs": [
    {
     "name": "stdin",
     "output_type": "stream",
     "text": [
      "Asigne la dimension de la matriz cuadrada: 3\n"
     ]
    },
    {
     "name": "stdout",
     "output_type": "stream",
     "text": [
      "La matriz generada fue [[0.88, 0.58, 0.27], [0.38, 0.57, 0.53], [0.68, 0.41, 0.63]]\n",
      "El vector generado fue [0.39, 0.14, 0.9]\n",
      "El producto del vector y la matriz es [0.6674, 0.7050000000000001, 0.8896000000000002]\n"
     ]
    }
   ],
   "source": [
    "FR=[]\n",
    "M1=[]\n",
    "fr=[]\n",
    "m1=[]\n",
    "vr=[]\n",
    "c3=0\n",
    "C3=0\n",
    "P=int(input(\"Asigne la dimension de la matriz cuadrada:\"))\n",
    "for i in range(P): #Codigo para generar nxn datos, generar un archivo con estos, y leer el archivo para generar la matriz nxn\n",
    "    for j in range(P):\n",
    "        u=random()\n",
    "        u=round(u,2)\n",
    "        FR.append(u)\n",
    "    np.savetxt('reversa.txt',FR,'%r',',',',0')\n",
    "    X=np.loadtxt('reversa.txt',float,'#',',')\n",
    "    X=np.ndarray.tolist(X)\n",
    "    X.pop()\n",
    "    M1.append(X)\n",
    "    FR=[]\n",
    "for i in range(P): #Codigo para generar nx1 datos, generar un archivo con estos, y leer el archivo para generar el vector nx1\n",
    "    u=random()\n",
    "    u=round(u,2)\n",
    "    fr.append(u)\n",
    "np.savetxt('prueba.txt',fr,'%r',',',',0')\n",
    "X=np.loadtxt('prueba.txt',float,'#',',')\n",
    "m1=np.ndarray.tolist(X)\n",
    "m1.pop()\n",
    "for i in range(P):\n",
    "    for j in range(P):\n",
    "        c3=M1[i][j]*m1[j]\n",
    "        C3+=c3\n",
    "    vr.append(C3)\n",
    "    C3=0\n",
    "print(\"La matriz generada fue\",M1)\n",
    "print(\"El vector generado fue\",m1)\n",
    "print(\"El producto del vector y la matriz es\",vr)"
   ]
  },
  {
   "cell_type": "markdown",
   "id": "755cf681-05a9-4031-9992-45089a08c262",
   "metadata": {},
   "source": [
    "d. El producto de dos matrices $\\mathbb{A},\\mathbb{B}\\in\\mathbb{R}^{n\\times n}$. En la implementación las entradas de ambas matrices deben leerse de un archivo de datos (que tu generes)."
   ]
  },
  {
   "cell_type": "code",
   "execution_count": 464,
   "id": "f93c1abd-d642-4678-9904-f5cddc9eac51",
   "metadata": {},
   "outputs": [
    {
     "name": "stdin",
     "output_type": "stream",
     "text": [
      "Asigne la dimension de las matrices cuadradas: 2\n"
     ]
    },
    {
     "name": "stdout",
     "output_type": "stream",
     "text": [
      "Las matrices generadas fueron [[0.08, 0.71], [0.32, 0.54]] y [[0.92, 0.74], [0.98, 0.22]]\n",
      "El producto de estas fue [[0.7694, 0.2154], [0.8236, 0.3556]]\n"
     ]
    }
   ],
   "source": [
    "FR=[]\n",
    "M1=[]\n",
    "fr=[]\n",
    "m1=[]\n",
    "Mr=[]\n",
    "c4=0\n",
    "C4=0\n",
    "Q=int(input(\"Asigne la dimension de las matrices cuadradas:\"))\n",
    "for i in range(Q):\n",
    "    for j in range(Q):\n",
    "        u=random()\n",
    "        u=round(u,2)\n",
    "        FR.append(u)\n",
    "    np.savetxt('reversa.txt',FR,'%r',',',',0')\n",
    "    X=np.loadtxt('reversa.txt',float,'#',',')\n",
    "    X=np.ndarray.tolist(X)\n",
    "    X.pop()\n",
    "    M1.append(X)\n",
    "    FR=[]\n",
    "for i in range(Q):\n",
    "    for j in range(Q):\n",
    "        u=random()\n",
    "        u=round(u,2)\n",
    "        fr.append(u)\n",
    "    np.savetxt('reversa.txt',fr,'%r',',',',0')\n",
    "    X=np.loadtxt('reversa.txt',float,'#',',')\n",
    "    X=np.ndarray.tolist(X)\n",
    "    X.pop()\n",
    "    m1.append(X)\n",
    "    fr=[]\n",
    "for i in range(Q):\n",
    "    b=[]\n",
    "    for j in range(Q):\n",
    "        for k in range(Q):\n",
    "            c4=M1[i][k]*m1[k][j]\n",
    "            C4+=c4\n",
    "        b.append(C4)\n",
    "        C4=0\n",
    "    Mr.append(b)\n",
    "    C4=0\n",
    "print(\"Las matrices generadas fueron\",M1,\"y\",m1)\n",
    "print(\"El producto de estas fue\",Mr)"
   ]
  },
  {
   "cell_type": "markdown",
   "id": "01a94f74-fd29-4d25-b754-a71069fff0f8",
   "metadata": {},
   "source": [
    "e. Convierte tus códigos en funciones y generaliza todo en una única función que realice el producto de dos matrices $\\mathbb{A}\\in\\mathbb{R}^{n\\times m}$ y $\\mathbb{B}\\in\\mathbb{R}^{m\\times n}$, así como el cálculo de cualquiera de los incisos anteriores, dependiendo de la entrada que se le dé a la función. En todos los casos, las entradas deben leerse de un archivo de datos."
   ]
  },
  {
   "cell_type": "code",
   "execution_count": 508,
   "id": "91056d2b-b827-4e35-b081-e3d8c1e78213",
   "metadata": {},
   "outputs": [],
   "source": [
    "#Esta funcion multiplicara matrices QxP por matrices PxR, ambas con entradas aleatorias y extraidas de un documento de texto.\n",
    "#Se requiere de un documento llamado prmat.txt en la locación para que el programa funcione\n",
    "def prmat(P,Q,R):\n",
    "    F=[]\n",
    "    M=[]\n",
    "    f=[]\n",
    "    m=[]\n",
    "    C=0\n",
    "    c=0\n",
    "    V=[]\n",
    "    for i in range(P):\n",
    "        for j in range(Q):\n",
    "            u=random()\n",
    "            u=round(u,2)\n",
    "            F.append(u)\n",
    "        np.savetxt('prmat.txt',F,'%r',',',',0')\n",
    "        X=np.loadtxt('prmat.txt',float,'#',',')\n",
    "        X=np.ndarray.tolist(X)\n",
    "        X.pop()\n",
    "        M.append(X)\n",
    "        F=[]\n",
    "    for i in range(Q):\n",
    "        for j in range(R):\n",
    "            u=random()\n",
    "            u=round(u,2)\n",
    "            f.append(u)\n",
    "        np.savetxt('prmat.txt',f,'%r',',',',0')\n",
    "        X=np.loadtxt('prmat.txt',float,'#',',')\n",
    "        X=np.ndarray.tolist(X)\n",
    "        X.pop()\n",
    "        m.append(X)\n",
    "        f=[]\n",
    "    for i in range(P):\n",
    "        b=[]\n",
    "        for j in range(R):\n",
    "            for k in range(Q):\n",
    "                c=M[i][k]*m[k][j]\n",
    "                C+=c\n",
    "            b.append(C)\n",
    "            C=0\n",
    "        V.append(b)\n",
    "        C=0\n",
    "    return V"
   ]
  },
  {
   "cell_type": "markdown",
   "id": "3f4f9ce2-7c64-4d7b-bd1c-cfc1aa887aef",
   "metadata": {},
   "source": [
    "Ejemplos de uso:"
   ]
  },
  {
   "cell_type": "code",
   "execution_count": 512,
   "id": "447fe032-f566-4e57-9035-d7dde484aa59",
   "metadata": {},
   "outputs": [
    {
     "data": {
      "text/plain": [
       "[[0.8026000000000001]]"
      ]
     },
     "execution_count": 512,
     "metadata": {},
     "output_type": "execute_result"
    }
   ],
   "source": [
    "prmat(1,3,1)"
   ]
  },
  {
   "cell_type": "code",
   "execution_count": 514,
   "id": "28f4cb9c-f433-4b13-84d8-2559c0790140",
   "metadata": {},
   "outputs": [
    {
     "data": {
      "text/plain": [
       "[[5.4406]]"
      ]
     },
     "execution_count": 514,
     "metadata": {},
     "output_type": "execute_result"
    }
   ],
   "source": [
    "prmat(1,20,1)"
   ]
  },
  {
   "cell_type": "code",
   "execution_count": 524,
   "id": "b72a8327-7804-46ed-b50c-1a06001d3de5",
   "metadata": {},
   "outputs": [
    {
     "data": {
      "text/plain": [
       "[[0.3941], [1.7185], [1.4879], [0.7027]]"
      ]
     },
     "execution_count": 524,
     "metadata": {},
     "output_type": "execute_result"
    }
   ],
   "source": [
    "prmat(4,4,1)"
   ]
  },
  {
   "cell_type": "code",
   "execution_count": 520,
   "id": "9b1a2ee8-afec-4b13-b1da-f7522b8306d8",
   "metadata": {},
   "outputs": [
    {
     "data": {
      "text/plain": [
       "[[2.215, 2.2107, 0.8251000000000001, 0.7749999999999999],\n",
       " [1.2752, 1.4541, 0.6635000000000001, 0.194],\n",
       " [2.1728, 2.3085999999999998, 0.8652, 0.7505000000000001],\n",
       " [1.7805, 1.6907999999999999, 0.5965, 0.7184999999999999]]"
      ]
     },
     "execution_count": 520,
     "metadata": {},
     "output_type": "execute_result"
    }
   ],
   "source": [
    "prmat(4,4,4)"
   ]
  },
  {
   "cell_type": "markdown",
   "id": "cdbc8652-216a-454d-b713-50fb3973cc88",
   "metadata": {},
   "source": [
    "3. Caída de una pelota desde una torre: Se deja caer una pelota desde una torre de altura $h$. Tiene velocidad inicial cero y acelera hacia abajo con la gravedad..\r\n"
   ]
  },
  {
   "cell_type": "markdown",
   "id": "c9e881f5-dba0-43a6-92bb-015ace3b57f8",
   "metadata": {},
   "source": [
    "a. Escribe un programa que le pida al usuario que ingrese la altura en metros de la torre y luego calcule e imprima el tiempo en segundos hasta que la pelota toque el suelo (ignora la resistencia del aire)."
   ]
  },
  {
   "cell_type": "code",
   "execution_count": 87,
   "id": "cbc5a844-8670-4687-9ad7-936e16a73ab4",
   "metadata": {},
   "outputs": [
    {
     "name": "stdin",
     "output_type": "stream",
     "text": [
      "Ingrese la altura de la torre 0\n"
     ]
    },
    {
     "name": "stdout",
     "output_type": "stream",
     "text": [
      "El tiempo que le toma caer a la pelota caer desde 0.0 m de altura es de 0.0 s\n"
     ]
    }
   ],
   "source": [
    "g=9.81\n",
    "h=float(input(\"Ingrese la altura de la torre\"))\n",
    "t=mt.sqrt(2*h/g)\n",
    "print(\"El tiempo que le toma caer a la pelota caer desde\",h,\"m de altura es de\",round(t,5),\"s\")"
   ]
  },
  {
   "cell_type": "markdown",
   "id": "6fd21ed3-4111-4c96-97b2-ccd16c07bc22",
   "metadata": {},
   "source": [
    "b. Despues, usa tu programa para calcular el tiempo de una pelota lanzada desde una torre de $100m$ de altura."
   ]
  },
  {
   "cell_type": "code",
   "execution_count": 89,
   "id": "c00f5565-d07b-4a97-aca5-1bc1c5d3c035",
   "metadata": {},
   "outputs": [
    {
     "name": "stdout",
     "output_type": "stream",
     "text": [
      "El tiempo que le toma caer a la pelota caer desde 100 m de altura es de 4.51524 s\n"
     ]
    }
   ],
   "source": [
    "h=100\n",
    "t=mt.sqrt(2*h/g)\n",
    "print(\"El tiempo que le toma caer a la pelota caer desde\",h,\"m de altura es de\",round(t,5),\"s\")"
   ]
  },
  {
   "cell_type": "markdown",
   "id": "3045c9ad-8df0-4c04-a490-29305eae98e8",
   "metadata": {},
   "source": [
    "4. Altitud de un satélite: se va a lanzar un satélite en una orbita circular alrededor de la Tierra de modo que orbite el planeta una vez cada $T$ segundos."
   ]
  },
  {
   "cell_type": "markdown",
   "id": "0d2ac0f5-e757-4b2f-8205-92ac86e2c13e",
   "metadata": {},
   "source": [
    "a. Demuestre que la altitud $h$ sobre la superficie de la Tierra que debe tener el satélite es:\\\n",
    "$\\begin{equation*}\n",
    "h=\\left(\\dfrac{GMT^2}{4\\pi^2}\\right)^{\\dfrac{1}{3}}-R\n",
    "\\end{equation*}$\\\n",
    "donde $G=6.67×10^{−11}m^3kg^{−1}s^{−2}$ es la constante gravitatoria de Newton, $M=5.97×10^{24}kg$ es la masa de la Tierra y $R=6371km$ es su radio."
   ]
  },
  {
   "cell_type": "markdown",
   "id": "2508ccfd-44e5-45e5-a398-ea64c5375c4e",
   "metadata": {},
   "source": [
    "De la tercera ley de Kepler sabemos\\\n",
    "$\\begin{equation*}\n",
    "    \\begin{split}\n",
    "        \\dfrac{T^2}{a^3}=C\\\\\n",
    "    \\end{split}\n",
    "\\end{equation*}$\\\n",
    "Donde $C$ es una constante y en este caso $a$ representa el radio de la órbita. Además el potencial gravitacional genera la aceleración centripeta para el movimiento radial\\\n",
    "$\\begin{equation*}\n",
    "    \\begin{split}\n",
    "        \\dfrac{GMm}{a^2}=m\\omega^2a\\\\\n",
    "    \\end{split}\n",
    "\\end{equation*}$\\\n",
    "Como la relación entre la frecuencia y el periodo es de\\\n",
    "$\\begin{equation*}\n",
    "    \\begin{split}\n",
    "        \\omega=\\dfrac{2\\pi}{T}\\\\\n",
    "    \\end{split}\n",
    "\\end{equation*}$\\\n",
    "Por lo que\\\n",
    "$\\begin{equation*}\n",
    "    \\begin{split}\n",
    "        m\\omega^2a&=\\dfrac{GMm}{a^2}\\\\\n",
    "        \\omega^2a&=\\dfrac{GM}{a^2}\\\\\n",
    "        a^3&=\\dfrac{GM}{\\omega^2}\\\\\n",
    "        a&=\\sqrt[3]{\\left(\\dfrac{GM}{\\omega^2}\\right)}\\\\\n",
    "        a&=\\sqrt[3]{\\left(\\dfrac{GM}{\\left(\\dfrac{4\\pi^2}{T^2}\\right)}\\right)}\\\\\n",
    "        a&=\\sqrt[3]{\\dfrac{GMT^2}{4\\pi^2}}\\\\\n",
    "    \\end{split}\n",
    "\\end{equation*}$\\\n",
    "Finalmente notemos que el radio de la orbita se compone del radio del planeta más la altura del satelite sobre el, así\\\n",
    "$\\begin{equation*}\n",
    "    \\begin{split}\n",
    "        a&=\\sqrt[3]{\\dfrac{GMT^2}{4\\pi^2}}\\\\\n",
    "        h+R&=\\sqrt[3]{\\dfrac{GMT^2}{4\\pi^2}}\\\\\n",
    "        h&=\\sqrt[3]{\\dfrac{GMT^2}{4\\pi^2}}-R\\blacksquare\\\\\n",
    "    \\end{split}\n",
    "\\end{equation*}$"
   ]
  },
  {
   "cell_type": "markdown",
   "id": "f38508ca-5a58-4f75-b90f-d344650fe396",
   "metadata": {},
   "source": [
    "b. Escribe un programa que le pida al usuario que ingrese el valor deseado de $T$ y luego calcula e imprima la altitud correcta en metros."
   ]
  },
  {
   "cell_type": "code",
   "execution_count": 136,
   "id": "e88be7e8-da3e-463d-871a-28d690610bb1",
   "metadata": {},
   "outputs": [
    {
     "name": "stdin",
     "output_type": "stream",
     "text": [
      "Ingrese los minutos que quiere que dure su periodo: 2880\n"
     ]
    },
    {
     "name": "stdout",
     "output_type": "stream",
     "text": [
      "La altura a la que debe orbitar su satelite es de: 60649990.5 m\n"
     ]
    }
   ],
   "source": [
    "G=6.667*(10**(-11))\n",
    "M=5.97*(10**(24))\n",
    "R=6.371*(10**(6))\n",
    "T=float(input(\"Ingrese los minutos que quiere que dure su periodo:\"))\n",
    "T=T*60\n",
    "H=mt.cbrt((G*M*(T**2))/(4*(mt.pi**2)))-R\n",
    "print(\"La altura a la que debe orbitar su satelite es de:\",round(H,2),\"m\")"
   ]
  },
  {
   "cell_type": "markdown",
   "id": "6fb4761a-565a-4f5c-82e0-8626c621b2a9",
   "metadata": {},
   "source": [
    "c. Utiliza tu programa para calcular las altitudes de los satélites que orbitan la Tierra una vez al día (la llamada órbita geoestacionaria), una vez cada $90 minutos$ y una vez cada $45 minutos$. ¿Qué concluyes de este último cálculo?"
   ]
  },
  {
   "cell_type": "code",
   "execution_count": 140,
   "id": "db212690-8002-441e-a174-a23cd3964d68",
   "metadata": {},
   "outputs": [
    {
     "name": "stdout",
     "output_type": "stream",
     "text": [
      "Para periodos de un día la altura a la que debe orbitar su satelite es de: 35849578.36 m\n",
      "Para periodos de 90 minutos la altura a la que debe orbitar su satelite es de: 278324.43 m\n",
      "Para periodos de 45 minutos la altura a la que debe orbitar su satelite es de: -2182188.09 m\n"
     ]
    }
   ],
   "source": [
    "T=86400\n",
    "H=mt.cbrt((G*M*(T**2))/(4*(mt.pi**2)))-R\n",
    "print(\"Para periodos de un día la altura a la que debe orbitar su satelite es de:\",round(H,2),\"m\")\n",
    "T=5400\n",
    "H=mt.cbrt((G*M*(T**2))/(4*(mt.pi**2)))-R\n",
    "print(\"Para periodos de 90 minutos la altura a la que debe orbitar su satelite es de:\",round(H,2),\"m\")\n",
    "T=2700\n",
    "H=mt.cbrt((G*M*(T**2))/(4*(mt.pi**2)))-R\n",
    "print(\"Para periodos de 45 minutos la altura a la que debe orbitar su satelite es de:\",round(H,2),\"m\")"
   ]
  },
  {
   "cell_type": "markdown",
   "id": "59cc4279-d574-40c4-99e8-f12a36f93a8b",
   "metadata": {},
   "source": [
    "De esto último se concluye que no se puede hacer a un satelite en orbita tener un periodo de 45 minutos."
   ]
  },
  {
   "cell_type": "markdown",
   "id": "a2fdb5d6-eff4-4a4b-8071-7a03e7a3d24b",
   "metadata": {},
   "source": [
    "5. Relatividad especial: Una nave espacial viaja desde la Tierra en línea recta a una velocidad relativista $v$ a otro planeta a $x$ años luz de distancia.\\\n",
    "Escribe un programa que le pida al usuario el valor de $x$ y la velocidad $v$ como una fracción de la velocidad de la luz $c$, y que imprima el tiempo en años que tarda la nave espacial en llegar a su destino"
   ]
  },
  {
   "cell_type": "markdown",
   "id": "6a5f916b-3aec-49f5-a4ee-692f754d5a3a",
   "metadata": {},
   "source": [
    "a. En el marco de reposo de un observador en la Tierra y"
   ]
  },
  {
   "cell_type": "code",
   "execution_count": 193,
   "id": "3d6d016c-c015-41d1-a70c-1dfcd28f6c3d",
   "metadata": {},
   "outputs": [
    {
     "name": "stdin",
     "output_type": "stream",
     "text": [
      "Ingrese la cantidad de años luz a los que se encuentra el destino: 50\n",
      "Ingrese la fracción de la velocidad de la luz a la que va su nave: 0.5\n"
     ]
    },
    {
     "name": "stdout",
     "output_type": "stream",
     "text": [
      "Los años que toma completar el viaje para un observador en la tierra: 100.0\n"
     ]
    }
   ],
   "source": [
    "d=float(input(\"Ingrese la cantidad de años luz a los que se encuentra el destino:\"))\n",
    "v=float(input(\"Ingrese la fracción de la velocidad de la luz a la que va su nave:\"))\n",
    "w=d/v\n",
    "print(\"Los años que toma completar el viaje para un observador en la tierra:\",w)"
   ]
  },
  {
   "cell_type": "markdown",
   "id": "25501ab2-ff1e-4bc9-804d-f8ac6a7c5694",
   "metadata": {},
   "source": [
    "b. Como lo percibiría un pasajero a bordo de la nave."
   ]
  },
  {
   "cell_type": "code",
   "execution_count": 195,
   "id": "e088aebf-42b2-469d-b799-3b7e3d40ecef",
   "metadata": {},
   "outputs": [
    {
     "name": "stdin",
     "output_type": "stream",
     "text": [
      "Ingrese la cantidad de años luz a los que se encuentra el destino: 50\n",
      "Ingrese la fracción de la velocidad de la luz a la que va su nave: 0.5\n"
     ]
    },
    {
     "name": "stdout",
     "output_type": "stream",
     "text": [
      "Los años que toma completar el viaje para un observador a bordo de la nave son: 86.60254037844385\n"
     ]
    }
   ],
   "source": [
    "d=float(input(\"Ingrese la cantidad de años luz a los que se encuentra el destino:\"))\n",
    "v=float(input(\"Ingrese la fracción de la velocidad de la luz a la que va su nave:\"))\n",
    "ga=1/mt.sqrt(1-(v**2))\n",
    "D=d/ga\n",
    "W=D/v\n",
    "print(\"Los años que toma completar el viaje para un observador a bordo de la nave son:\",W)"
   ]
  },
  {
   "cell_type": "markdown",
   "id": "f6818851-be2b-44d1-92e0-06e0da8bd52f",
   "metadata": {},
   "source": [
    "c. Usa tu programa para calcular las respuestas para un planeta a 10 años luz de distancia con $v=0.99c$"
   ]
  },
  {
   "cell_type": "code",
   "execution_count": 205,
   "id": "a60b084b-8b1c-472b-b2ce-23e72a74bdc7",
   "metadata": {},
   "outputs": [
    {
     "name": "stdin",
     "output_type": "stream",
     "text": [
      "Ingrese la cantidad de años luz a los que se encuentra el destino: 10\n",
      "Ingrese la fracción de la velocidad de la luz a la que va su nave: 0.99\n"
     ]
    },
    {
     "name": "stdout",
     "output_type": "stream",
     "text": [
      "Los años que toma completar el viaje para un observador en la tierra: 10.1010101010101\n",
      "Los años que toma completar el viaje para un observador a bordo de la nave son: 1.4249228262288782\n"
     ]
    }
   ],
   "source": [
    "d=float(input(\"Ingrese la cantidad de años luz a los que se encuentra el destino:\"))\n",
    "v=float(input(\"Ingrese la fracción de la velocidad de la luz a la que va su nave:\"))\n",
    "ga=1/mt.sqrt(1-(v**2))\n",
    "D=d/ga\n",
    "w=d/v\n",
    "W=D/v\n",
    "print(\"Los años que toma completar el viaje para un observador en la tierra:\",w)\n",
    "print(\"Los años que toma completar el viaje para un observador a bordo de la nave son:\",W)"
   ]
  }
 ],
 "metadata": {
  "kernelspec": {
   "display_name": "Python 3 (ipykernel)",
   "language": "python",
   "name": "python3"
  },
  "language_info": {
   "codemirror_mode": {
    "name": "ipython",
    "version": 3
   },
   "file_extension": ".py",
   "mimetype": "text/x-python",
   "name": "python",
   "nbconvert_exporter": "python",
   "pygments_lexer": "ipython3",
   "version": "3.12.4"
  }
 },
 "nbformat": 4,
 "nbformat_minor": 5
}
